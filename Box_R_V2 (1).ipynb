{
 "cells": [
  {
   "cell_type": "code",
   "execution_count": 30,
   "id": "76597b75-b6ba-473b-b133-1534230627e2",
   "metadata": {},
   "outputs": [
    {
     "name": "stderr",
     "output_type": "stream",
     "text": [
      "\n",
      "Attaching package: ‘dplyr’\n",
      "\n",
      "\n",
      "The following objects are masked from ‘package:stats’:\n",
      "\n",
      "    filter, lag\n",
      "\n",
      "\n",
      "The following objects are masked from ‘package:base’:\n",
      "\n",
      "    intersect, setdiff, setequal, union\n",
      "\n",
      "\n"
     ]
    }
   ],
   "source": [
    "library(ggplot2)\n",
    "library(ggpubr)\n",
    "library(patchwork)\n",
    "library(dplyr)"
   ]
  },
  {
   "cell_type": "code",
   "execution_count": 52,
   "id": "4de0425a-1356-41d0-8d19-e34cddc4c439",
   "metadata": {},
   "outputs": [],
   "source": [
    "df = read.csv('df.txt',sep='\\t')"
   ]
  },
  {
   "cell_type": "code",
   "execution_count": 42,
   "id": "70e839a0-2add-46e2-8608-87aea70bda44",
   "metadata": {},
   "outputs": [
    {
     "data": {
      "text/html": [
       "<style>\n",
       ".list-inline {list-style: none; margin:0; padding: 0}\n",
       ".list-inline>li {display: inline-block}\n",
       ".list-inline>li:not(:last-child)::after {content: \"\\00b7\"; padding: 0 .5ex}\n",
       "</style>\n",
       "<ol class=list-inline><li>'Del_mutant.frequency_0.01'</li><li>'Del_mutant.frequency_0.4'</li><li>'Del_mutant.frequency_0.5'</li><li>'Del_mutant.frequency_0.6'</li><li>'Ins_mutant.frequency_0.01'</li><li>'Ins_mutant.frequency_0.4'</li><li>'Ins_mutant.frequency_0.5'</li><li>'Ins_mutant.frequency_0.6'</li><li>'SNV_mutant.frequency_0.01'</li><li>'SNV_mutant.frequency_0.4'</li><li>'SNV_mutant.frequency_0.5'</li><li>'SNV_mutant.frequency_0.6'</li></ol>\n"
      ],
      "text/latex": [
       "\\begin{enumerate*}\n",
       "\\item 'Del\\_mutant.frequency\\_0.01'\n",
       "\\item 'Del\\_mutant.frequency\\_0.4'\n",
       "\\item 'Del\\_mutant.frequency\\_0.5'\n",
       "\\item 'Del\\_mutant.frequency\\_0.6'\n",
       "\\item 'Ins\\_mutant.frequency\\_0.01'\n",
       "\\item 'Ins\\_mutant.frequency\\_0.4'\n",
       "\\item 'Ins\\_mutant.frequency\\_0.5'\n",
       "\\item 'Ins\\_mutant.frequency\\_0.6'\n",
       "\\item 'SNV\\_mutant.frequency\\_0.01'\n",
       "\\item 'SNV\\_mutant.frequency\\_0.4'\n",
       "\\item 'SNV\\_mutant.frequency\\_0.5'\n",
       "\\item 'SNV\\_mutant.frequency\\_0.6'\n",
       "\\end{enumerate*}\n"
      ],
      "text/markdown": [
       "1. 'Del_mutant.frequency_0.01'\n",
       "2. 'Del_mutant.frequency_0.4'\n",
       "3. 'Del_mutant.frequency_0.5'\n",
       "4. 'Del_mutant.frequency_0.6'\n",
       "5. 'Ins_mutant.frequency_0.01'\n",
       "6. 'Ins_mutant.frequency_0.4'\n",
       "7. 'Ins_mutant.frequency_0.5'\n",
       "8. 'Ins_mutant.frequency_0.6'\n",
       "9. 'SNV_mutant.frequency_0.01'\n",
       "10. 'SNV_mutant.frequency_0.4'\n",
       "11. 'SNV_mutant.frequency_0.5'\n",
       "12. 'SNV_mutant.frequency_0.6'\n",
       "\n",
       "\n"
      ],
      "text/plain": [
       " [1] \"Del_mutant.frequency_0.01\" \"Del_mutant.frequency_0.4\" \n",
       " [3] \"Del_mutant.frequency_0.5\"  \"Del_mutant.frequency_0.6\" \n",
       " [5] \"Ins_mutant.frequency_0.01\" \"Ins_mutant.frequency_0.4\" \n",
       " [7] \"Ins_mutant.frequency_0.5\"  \"Ins_mutant.frequency_0.6\" \n",
       " [9] \"SNV_mutant.frequency_0.01\" \"SNV_mutant.frequency_0.4\" \n",
       "[11] \"SNV_mutant.frequency_0.5\"  \"SNV_mutant.frequency_0.6\" "
      ]
     },
     "metadata": {},
     "output_type": "display_data"
    }
   ],
   "source": [
    "sort(paste0(rep(c('Del','Ins','SNV'),4),'_mutant.frequency_',rep(c(0.01,0.4,0.5,0.6),3)))"
   ]
  },
  {
   "cell_type": "code",
   "execution_count": 138,
   "id": "5403590d-c6bb-4dc4-80f3-993749f5181c",
   "metadata": {},
   "outputs": [],
   "source": [
    "df_transform_raw <- bind_rows(lapply(sort(paste0(rep(c('Del','Ins','SNV'),4),'_mutant.frequency_',rep(c(0.01,0.4,0.5,0.6),3))),function(x){\n",
    "    tmp_df <- df[,c('Type.of.chemical.modification',x)]\n",
    "    tmp_df$Value <- tmp_df[,x]\n",
    "    tmp_df$type <- strsplit(x,'_')[[1]][1]\n",
    "    tmp_df$AF <- strsplit(x,'_')[[1]][3]\n",
    "    return(tmp_df[,c('Type.of.chemical.modification','Value','AF','type')])}))\n",
    "df_transform_raw[,'Group'] <- c('E1Ctrl'='Group1','91G'='Group1','92A'='Group1','93C'='Group1','94T'='Group1',\n",
    "                      'E2Ctrl'='Group2','EtO'='Group2','S'='Group2',\n",
    "                      'E2Ctrl'='Group3','LNA'='Group3','LNATC'='Group3')[df_transform_raw[,'Type.of.chemical.modification']]"
   ]
  },
  {
   "cell_type": "code",
   "id": "93afb1b1-c182-4338-b764-b67d76c06bc0",
   "metadata": {
    "scrolled": true,
    "ExecuteTime": {
     "end_time": "2025-04-14T12:44:36.825831Z",
     "start_time": "2025-04-14T12:44:36.822314Z"
    }
   },
   "source": [
    "df_transform <- aggregate(list('Value'=df_transform_raw$Value),\n",
    "                          by=list('Type.of.chemical.modification'=df_transform_raw$Type.of.chemical.modification,\n",
    "                                  'AF'=df_transform_raw$AF,\n",
    "                                  'type'=df_transform_raw$type,\n",
    "                                  'Group'=df_transform_raw$Group),FUN = function(x) {c('mean' = mean(x), 'sd' = sd(x))})\n",
    "df_transform$mean <- df_transform$Value[,'mean']\n",
    "df_transform$sd <- df_transform$Value[,'sd']\n",
    "df_transform$Value <- NULL"
   ],
   "outputs": [
    {
     "ename": "SyntaxError",
     "evalue": "expression cannot contain assignment, perhaps you meant \"==\"? (2170006327.py, line 1)",
     "output_type": "error",
     "traceback": [
      "  \u001B[36mCell\u001B[39m\u001B[36m \u001B[39m\u001B[32mIn[1]\u001B[39m\u001B[32m, line 1\u001B[39m\n\u001B[31m    \u001B[39m\u001B[31mdf_transform <- aggregate(list('Value'=df_transform_raw$Value),\u001B[39m\n                                   ^\n\u001B[31mSyntaxError\u001B[39m\u001B[31m:\u001B[39m expression cannot contain assignment, perhaps you meant \"==\"?\n"
     ]
    }
   ],
   "execution_count": 1
  },
  {
   "cell_type": "code",
   "id": "98302aec-71b0-463b-87e1-8b864116b704",
   "metadata": {
    "ExecuteTime": {
     "end_time": "2025-04-14T12:44:37.271866Z",
     "start_time": "2025-04-14T12:44:37.266162Z"
    }
   },
   "source": [
    "plot_AF_Group_box <- function(Sample,Group,AF){\n",
    "    tmp_df <- df_transform[df_transform$Type.of.chemical.modification%in%Sample&df_transform$AF==AF,]\n",
    "    tmp_df_raw <- df_transform_raw[df_transform_raw$Type.of.chemical.modification%in%Sample&df_transform$AF==AF,]\n",
    "    my_comparisons <- combn(unique(tmp_df$Type.of.chemical.modification), 2)\n",
    "    my_comparisons <- lapply(1:ncol(my_comparisons),function(x){return(my_comparisons[,x])})\n",
    "    \n",
    "    p1 <- \n",
    "    ggplot(tmp_df_raw,aes(x=Type.of.chemical.modification,y=Value))+\n",
    "    geom_point(aes(x=Type.of.chemical.modification,y=Value),color='black')+\n",
    "    geom_bar(data=tmp_df,aes(x=Type.of.chemical.modification,y=mean,fill=Type.of.chemical.modification),color='black',lwd=0.5,width=0.8,stat='identity')+\n",
    "    geom_errorbar(data=tmp_df,aes(x=Type.of.chemical.modification,y=mean,ymin = mean-sd, ymax = mean+sd), width = 0.2,color='black',lwd=0.5)+ \n",
    "    scale_fill_manual(values = c('#E64B35FF','#4DBBD5FF','#00A087FF','#3C5488FF',\n",
    "                                 '#F39B7FFF','#8491B4FF',\n",
    "                                 '#91D1C2FF','#DC0000FF','#7E6148FF','#B09C85FF'))+\n",
    "    stat_compare_means(data=tmp_df_raw,mapping=aes(x=Type.of.chemical.modification,y=Value),comparisons = my_comparisons,label =\"p.signif\",size=6)+\n",
    "    facet_wrap(~type,scale='free')+\n",
    "    theme_classic()+\n",
    "    theme(text = element_text(size=18))+\n",
    "    ggtitle(paste0('AF=',AF,', ',Group))+\n",
    "    ylab('Frequency')\n",
    "    p1\n",
    "}"
   ],
   "outputs": [
    {
     "ename": "SyntaxError",
     "evalue": "invalid syntax (4034039305.py, line 1)",
     "output_type": "error",
     "traceback": [
      "  \u001B[36mCell\u001B[39m\u001B[36m \u001B[39m\u001B[32mIn[2]\u001B[39m\u001B[32m, line 1\u001B[39m\n\u001B[31m    \u001B[39m\u001B[31mplot_AF_Group_box <- function(Sample,Group,AF){\u001B[39m\n                                                  ^\n\u001B[31mSyntaxError\u001B[39m\u001B[31m:\u001B[39m invalid syntax\n"
     ]
    }
   ],
   "execution_count": 2
  },
  {
   "cell_type": "code",
   "id": "f8589166-d65e-40ea-9851-4c9e14df00cb",
   "metadata": {
    "scrolled": true,
    "ExecuteTime": {
     "end_time": "2025-04-14T12:44:38.236232Z",
     "start_time": "2025-04-14T12:44:38.232335Z"
    }
   },
   "source": [
    "options(repr.plot.width=15,repr.plot.height=16)\n",
    "plot_AF_Group_box(Sample=c('E1Ctrl','91G','92A','93C','94T'),Group='Group1',AF='0.6')+\n",
    "plot_AF_Group_box(Sample=c('E2Ctrl','EtO','S'),Group='Group2',AF='0.6')+\n",
    "plot_AF_Group_box(Sample=c('E2Ctrl','LNA','LNATC'),Group='Group3',AF='0.6')+plot_layout(nrow=3)"
   ],
   "outputs": [
    {
     "ename": "SyntaxError",
     "evalue": "expression cannot contain assignment, perhaps you meant \"==\"? (3632685823.py, line 1)",
     "output_type": "error",
     "traceback": [
      "  \u001B[36mCell\u001B[39m\u001B[36m \u001B[39m\u001B[32mIn[3]\u001B[39m\u001B[32m, line 1\u001B[39m\n\u001B[31m    \u001B[39m\u001B[31moptions(repr.plot.width=15,repr.plot.height=16)\u001B[39m\n            ^\n\u001B[31mSyntaxError\u001B[39m\u001B[31m:\u001B[39m expression cannot contain assignment, perhaps you meant \"==\"?\n"
     ]
    }
   ],
   "execution_count": 3
  },
  {
   "cell_type": "code",
   "execution_count": 234,
   "id": "45fb4b38-c21a-4c20-a2da-d1861367b916",
   "metadata": {
    "scrolled": true
   },
   "outputs": [
    {
     "name": "stderr",
     "output_type": "stream",
     "text": [
      "Warning message in wilcox.test.default(c(0.000141064, 0.000384287, 9.4043e-05, 5.48982e-05:\n",
      "“cannot compute exact p-value with ties”\n",
      "Warning message in wilcox.test.default(c(0.000591475, 0.000315483, 0.000590474, :\n",
      "“cannot compute exact p-value with ties”\n",
      "Warning message in wilcox.test.default(c(0.000112902, 0.000272285, 5.74776e-05, :\n",
      "“cannot compute exact p-value with ties”\n",
      "Warning message in wilcox.test.default(c(0.000154016, 0.001148031, 0.000112503, :\n",
      "“cannot compute exact p-value with ties”\n",
      "Warning message in wilcox.test.default(c(0.000154016, 0.001148031, 0.000112503, :\n",
      "“cannot compute exact p-value with ties”\n",
      "Warning message in wilcox.test.default(c(0.000154016, 0.001148031, 0.000112503, :\n",
      "“cannot compute exact p-value with ties”\n",
      "Warning message in wilcox.test.default(c(0, 0.000136203, 0, 2.02294e-05, 3.94353e-05, :\n",
      "“cannot compute exact p-value with ties”\n",
      "Warning message in wilcox.test.default(c(0, 0.000136203, 0, 2.02294e-05, 3.94353e-05, :\n",
      "“cannot compute exact p-value with ties”\n",
      "Warning message in wilcox.test.default(c(0.000258649, 0.000321751, 6.77412e-05, :\n",
      "“cannot compute exact p-value with ties”\n",
      "Warning message in wilcox.test.default(c(7.66692e-05, 5.07369e-05, 3.83346e-05, :\n",
      "“cannot compute exact p-value with ties”\n",
      "Warning message in wilcox.test.default(c(7.66692e-05, 5.07369e-05, 3.83346e-05, :\n",
      "“cannot compute exact p-value with ties”\n",
      "Warning message in wilcox.test.default(c(2.98311e-05, 3.9912e-05, 4.68532e-05, 0, :\n",
      "“cannot compute exact p-value with ties”\n",
      "Warning message in wilcox.test.default(c(7.66692e-05, 5.07369e-05, 3.83346e-05, :\n",
      "“cannot compute exact p-value with ties”\n",
      "Warning message in wilcox.test.default(c(7.66692e-05, 5.07369e-05, 3.83346e-05, :\n",
      "“cannot compute exact p-value with ties”\n",
      "Warning message in wilcox.test.default(c(0, 3.64097e-05, 0, 0.000127863, 0, 0), :\n",
      "“cannot compute exact p-value with ties”\n",
      "Warning message in wilcox.test.default(c(0.000392371, 0.000421652, 0.000878371, :\n",
      "“cannot compute exact p-value with ties”\n",
      "Warning message in wilcox.test.default(c(0.000392371, 0.000421652, 0.000878371, :\n",
      "“cannot compute exact p-value with ties”\n",
      "Warning message in wilcox.test.default(c(0.000305936, 0.000283212, 0.000181684, :\n",
      "“cannot compute exact p-value with ties”\n",
      "Warning message in wilcox.test.default(c(0.000305936, 0.000283212, 0.000181684, :\n",
      "“cannot compute exact p-value with ties”\n",
      "Warning message in wilcox.test.default(c(7.42596e-05, 0.000133894, 0.000160349, :\n",
      "“cannot compute exact p-value with ties”\n",
      "Warning message in wilcox.test.default(c(4.82362e-05, 2.16625e-05, 0, 0, 2.41181e-05:\n",
      "“cannot compute exact p-value with ties”\n",
      "Warning message in wilcox.test.default(c(0.000158774, 0.000152741, 1.58774e-05, :\n",
      "“cannot compute exact p-value with ties”\n",
      "Warning message in wilcox.test.default(c(0.0019637, 0.002248227, 0.00090002, 0.000937715, :\n",
      "“cannot compute exact p-value with ties”\n",
      "Warning message in wilcox.test.default(c(0.0019637, 0.002248227, 0.00090002, 0.000937715, :\n",
      "“cannot compute exact p-value with ties”\n",
      "Warning message in wilcox.test.default(c(0.001814025, 0.001589737, 0.000195975, :\n",
      "“cannot compute exact p-value with ties”\n",
      "Warning message in wilcox.test.default(c(0.001814025, 0.001589737, 0.000195975, :\n",
      "“cannot compute exact p-value with ties”\n",
      "Warning message in wilcox.test.default(c(0.000463952, 0.000520532, 0), c(0.000133502, :\n",
      "“cannot compute exact p-value with ties”\n",
      "Warning message in wilcox.test.default(c(5.3378e-05, 0, 5.27644e-05, 3.14938e-05, :\n",
      "“cannot compute exact p-value with ties”\n",
      "Warning message in wilcox.test.default(c(5.3378e-05, 0, 5.27644e-05, 3.14938e-05, :\n",
      "“cannot compute exact p-value with ties”\n",
      "Warning message in wilcox.test.default(c(7.9824e-05, 4.68532e-05, 0, 0), c(6.7503e-05, :\n",
      "“cannot compute exact p-value with ties”\n",
      "Warning message in wilcox.test.default(c(5.3378e-05, 0, 5.27644e-05, 3.14938e-05, :\n",
      "“cannot compute exact p-value with ties”\n",
      "Warning message in wilcox.test.default(c(5.3378e-05, 0, 5.27644e-05, 3.14938e-05, :\n",
      "“cannot compute exact p-value with ties”\n",
      "Warning message in wilcox.test.default(c(5.93806e-05, 7.28193e-05, 0, 7.28193e-05, :\n",
      "“cannot compute exact p-value with ties”\n",
      "Warning message in wilcox.test.default(c(0.001372455, 5.60529e-05, 0.000210826, :\n",
      "“cannot compute exact p-value with ties”\n",
      "Warning message in wilcox.test.default(c(0.001372455, 5.60529e-05, 0.000210826, :\n",
      "“cannot compute exact p-value with ties”\n",
      "Warning message in wilcox.test.default(c(0.001372455, 5.60529e-05, 0.000210826, :\n",
      "“cannot compute exact p-value with ties”\n",
      "Warning message in wilcox.test.default(c(0.000186899, 0.00031007, 0.000295107, 0.000202294, :\n",
      "“cannot compute exact p-value with ties”\n",
      "Warning message in wilcox.test.default(c(0.000186899, 0.00031007, 0.000295107, 0.000202294, :\n",
      "“cannot compute exact p-value with ties”\n",
      "Warning message in wilcox.test.default(c(0, 0, 2.47532e-05), c(0, 2.67416e-05, 0, :\n",
      "“cannot compute exact p-value with ties”\n",
      "Warning message in wilcox.test.default(c(0.000105529, 3.14938e-05, 3.46258e-05, :\n",
      "“cannot compute exact p-value with ties”\n",
      "Warning message in wilcox.test.default(c(0.000105529, 3.14938e-05, 3.46258e-05, :\n",
      "“cannot compute exact p-value with ties”\n",
      "Warning message in wilcox.test.default(c(0, 4.82362e-05, 0, 0, 0, 4.68532e-05, 0, :\n",
      "“cannot compute exact p-value with ties”\n",
      "Warning message in wilcox.test.default(c(0.000105529, 3.14938e-05, 3.46258e-05, :\n",
      "“cannot compute exact p-value with ties”\n",
      "Warning message in wilcox.test.default(c(0.000105529, 3.14938e-05, 3.46258e-05, :\n",
      "“cannot compute exact p-value with ties”\n",
      "Warning message in wilcox.test.default(c(0.000163573, 0.000223761, 1.58774e-05, :\n",
      "“cannot compute exact p-value with ties”\n"
     ]
    }
   ],
   "source": [
    "for(i in c('0.01','0.4','0.5','0.6')){\n",
    "    p <- plot_AF_Group_box(Sample=c('E1Ctrl','91G','93C','94T'),Group='Group1',AF=i)+\n",
    "         plot_AF_Group_box(Sample=c('E2Ctrl','EtO','S'),Group='Group2',AF=i)+\n",
    "         plot_AF_Group_box(Sample=c('E2Ctrl','LNA','LNATC'),Group='Group3',AF=i)+plot_layout(nrow=3)\n",
    "    plot_layout(nrow=3)\n",
    "    pdf(paste0('R_Plot/','AF_',i,'.pdf'),width=15,height=16)\n",
    "    print(p)\n",
    "    dev.off()\n",
    "}"
   ]
  }
 ],
 "metadata": {
  "kernelspec": {
   "display_name": "Python 3 (ipykernel)",
   "language": "python",
   "name": "python3"
  },
  "language_info": {
   "codemirror_mode": "r",
   "file_extension": ".r",
   "mimetype": "text/x-r-source",
   "name": "R",
   "pygments_lexer": "r",
   "version": "4.4.1"
  }
 },
 "nbformat": 4,
 "nbformat_minor": 5
}
